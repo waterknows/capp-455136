{
 "cells": [
  {
   "cell_type": "code",
   "execution_count": 1,
   "metadata": {
    "collapsed": true
   },
   "outputs": [],
   "source": [
    "import os\n",
    "os.chdir('/home/sam/capp-455136')"
   ]
  },
  {
   "cell_type": "code",
   "execution_count": 2,
   "metadata": {
    "collapsed": true
   },
   "outputs": [],
   "source": [
    "%matplotlib inline"
   ]
  },
  {
   "cell_type": "code",
   "execution_count": 3,
   "metadata": {
    "collapsed": false
   },
   "outputs": [],
   "source": [
    "from mlpipe import *"
   ]
  },
  {
   "cell_type": "markdown",
   "metadata": {},
   "source": [
    "Get"
   ]
  },
  {
   "cell_type": "code",
   "execution_count": 4,
   "metadata": {
    "collapsed": false,
    "scrolled": true
   },
   "outputs": [],
   "source": [
    "train=get.csvtodf('pa2/Data/cs-training.csv')"
   ]
  },
  {
   "cell_type": "markdown",
   "metadata": {},
   "source": [
    "Describe"
   ]
  },
  {
   "cell_type": "code",
   "execution_count": 5,
   "metadata": {
    "collapsed": false,
    "scrolled": true
   },
   "outputs": [
    {
     "data": {
      "text/html": [
       "<div>\n",
       "<table border=\"1\" class=\"dataframe\">\n",
       "  <thead>\n",
       "    <tr style=\"text-align: right;\">\n",
       "      <th></th>\n",
       "      <th>mean</th>\n",
       "      <th>median</th>\n",
       "      <th>mode</th>\n",
       "      <th>std</th>\n",
       "      <th>missing</th>\n",
       "    </tr>\n",
       "  </thead>\n",
       "  <tbody>\n",
       "    <tr>\n",
       "      <th>Unnamed: 0</th>\n",
       "      <td>75000.500000</td>\n",
       "      <td>75000.500000</td>\n",
       "      <td>NaN</td>\n",
       "      <td>43301.414527</td>\n",
       "      <td>0.000000</td>\n",
       "    </tr>\n",
       "    <tr>\n",
       "      <th>SeriousDlqin2yrs</th>\n",
       "      <td>0.066840</td>\n",
       "      <td>0.000000</td>\n",
       "      <td>0.0</td>\n",
       "      <td>0.249746</td>\n",
       "      <td>0.000000</td>\n",
       "    </tr>\n",
       "    <tr>\n",
       "      <th>RevolvingUtilizationOfUnsecuredLines</th>\n",
       "      <td>6.048438</td>\n",
       "      <td>0.154181</td>\n",
       "      <td>0.0</td>\n",
       "      <td>249.755371</td>\n",
       "      <td>0.000000</td>\n",
       "    </tr>\n",
       "    <tr>\n",
       "      <th>age</th>\n",
       "      <td>52.295207</td>\n",
       "      <td>52.000000</td>\n",
       "      <td>49.0</td>\n",
       "      <td>14.771866</td>\n",
       "      <td>0.000000</td>\n",
       "    </tr>\n",
       "    <tr>\n",
       "      <th>NumberOfTime30-59DaysPastDueNotWorse</th>\n",
       "      <td>0.421033</td>\n",
       "      <td>0.000000</td>\n",
       "      <td>0.0</td>\n",
       "      <td>4.192781</td>\n",
       "      <td>0.000000</td>\n",
       "    </tr>\n",
       "    <tr>\n",
       "      <th>DebtRatio</th>\n",
       "      <td>353.005076</td>\n",
       "      <td>0.366508</td>\n",
       "      <td>0.0</td>\n",
       "      <td>2037.818523</td>\n",
       "      <td>0.000000</td>\n",
       "    </tr>\n",
       "    <tr>\n",
       "      <th>MonthlyIncome</th>\n",
       "      <td>6670.221237</td>\n",
       "      <td>5400.000000</td>\n",
       "      <td>5000.0</td>\n",
       "      <td>14384.674215</td>\n",
       "      <td>0.198207</td>\n",
       "    </tr>\n",
       "    <tr>\n",
       "      <th>NumberOfOpenCreditLinesAndLoans</th>\n",
       "      <td>8.452760</td>\n",
       "      <td>8.000000</td>\n",
       "      <td>6.0</td>\n",
       "      <td>5.145951</td>\n",
       "      <td>0.000000</td>\n",
       "    </tr>\n",
       "    <tr>\n",
       "      <th>NumberOfTimes90DaysLate</th>\n",
       "      <td>0.265973</td>\n",
       "      <td>0.000000</td>\n",
       "      <td>0.0</td>\n",
       "      <td>4.169304</td>\n",
       "      <td>0.000000</td>\n",
       "    </tr>\n",
       "    <tr>\n",
       "      <th>NumberRealEstateLoansOrLines</th>\n",
       "      <td>1.018240</td>\n",
       "      <td>1.000000</td>\n",
       "      <td>0.0</td>\n",
       "      <td>1.129771</td>\n",
       "      <td>0.000000</td>\n",
       "    </tr>\n",
       "    <tr>\n",
       "      <th>NumberOfTime60-89DaysPastDueNotWorse</th>\n",
       "      <td>0.240387</td>\n",
       "      <td>0.000000</td>\n",
       "      <td>0.0</td>\n",
       "      <td>4.155179</td>\n",
       "      <td>0.000000</td>\n",
       "    </tr>\n",
       "    <tr>\n",
       "      <th>NumberOfDependents</th>\n",
       "      <td>0.757222</td>\n",
       "      <td>0.000000</td>\n",
       "      <td>0.0</td>\n",
       "      <td>1.115086</td>\n",
       "      <td>0.026160</td>\n",
       "    </tr>\n",
       "  </tbody>\n",
       "</table>\n",
       "</div>"
      ],
      "text/plain": [
       "                                              mean        median    mode  \\\n",
       "Unnamed: 0                            75000.500000  75000.500000     NaN   \n",
       "SeriousDlqin2yrs                          0.066840      0.000000     0.0   \n",
       "RevolvingUtilizationOfUnsecuredLines      6.048438      0.154181     0.0   \n",
       "age                                      52.295207     52.000000    49.0   \n",
       "NumberOfTime30-59DaysPastDueNotWorse      0.421033      0.000000     0.0   \n",
       "DebtRatio                               353.005076      0.366508     0.0   \n",
       "MonthlyIncome                          6670.221237   5400.000000  5000.0   \n",
       "NumberOfOpenCreditLinesAndLoans           8.452760      8.000000     6.0   \n",
       "NumberOfTimes90DaysLate                   0.265973      0.000000     0.0   \n",
       "NumberRealEstateLoansOrLines              1.018240      1.000000     0.0   \n",
       "NumberOfTime60-89DaysPastDueNotWorse      0.240387      0.000000     0.0   \n",
       "NumberOfDependents                        0.757222      0.000000     0.0   \n",
       "\n",
       "                                               std   missing  \n",
       "Unnamed: 0                            43301.414527  0.000000  \n",
       "SeriousDlqin2yrs                          0.249746  0.000000  \n",
       "RevolvingUtilizationOfUnsecuredLines    249.755371  0.000000  \n",
       "age                                      14.771866  0.000000  \n",
       "NumberOfTime30-59DaysPastDueNotWorse      4.192781  0.000000  \n",
       "DebtRatio                              2037.818523  0.000000  \n",
       "MonthlyIncome                         14384.674215  0.198207  \n",
       "NumberOfOpenCreditLinesAndLoans           5.145951  0.000000  \n",
       "NumberOfTimes90DaysLate                   4.169304  0.000000  \n",
       "NumberRealEstateLoansOrLines              1.129771  0.000000  \n",
       "NumberOfTime60-89DaysPastDueNotWorse      4.155179  0.000000  \n",
       "NumberOfDependents                        1.115086  0.026160  "
      ]
     },
     "execution_count": 5,
     "metadata": {},
     "output_type": "execute_result"
    }
   ],
   "source": [
    "desc.dfsum(train)"
   ]
  },
  {
   "cell_type": "code",
   "execution_count": 6,
   "metadata": {
    "collapsed": false,
    "scrolled": true
   },
   "outputs": [
    {
     "data": {
      "text/plain": [
       "array([[<matplotlib.axes._subplots.AxesSubplot object at 0x7f60d64a6fd0>,\n",
       "        <matplotlib.axes._subplots.AxesSubplot object at 0x7f60d5f9e710>,\n",
       "        <matplotlib.axes._subplots.AxesSubplot object at 0x7f60d5f70128>],\n",
       "       [<matplotlib.axes._subplots.AxesSubplot object at 0x7f60d5f2a828>,\n",
       "        <matplotlib.axes._subplots.AxesSubplot object at 0x7f60d5ef2860>,\n",
       "        <matplotlib.axes._subplots.AxesSubplot object at 0x7f60d5eaf668>],\n",
       "       [<matplotlib.axes._subplots.AxesSubplot object at 0x7f60d5e7c9b0>,\n",
       "        <matplotlib.axes._subplots.AxesSubplot object at 0x7f60d5dca0b8>,\n",
       "        <matplotlib.axes._subplots.AxesSubplot object at 0x7f60d5d854e0>],\n",
       "       [<matplotlib.axes._subplots.AxesSubplot object at 0x7f60d5d4ff98>,\n",
       "        <matplotlib.axes._subplots.AxesSubplot object at 0x7f60d5d10518>,\n",
       "        <matplotlib.axes._subplots.AxesSubplot object at 0x7f60d5cdf128>]], dtype=object)"
      ]
     },
     "execution_count": 6,
     "metadata": {},
     "output_type": "execute_result"
    },
    {
     "data": {
      "image/png": "[encoded data removed]",
      "text/plain": [
       "<matplotlib.figure.Figure at 0x7f60d64a6d68>"
      ]
     },
     "metadata": {},
     "output_type": "display_data"
    }
   ],
   "source": [
    "desc.dfhist(train)"
   ]
  },
  {
   "cell_type": "code",
   "execution_count": 7,
   "metadata": {
    "collapsed": false
   },
   "outputs": [
    {
     "data": {
      "text/html": [
       "<div>\n",
       "<table border=\"1\" class=\"dataframe\">\n",
       "  <thead>\n",
       "    <tr style=\"text-align: right;\">\n",
       "      <th></th>\n",
       "      <th>Unnamed: 0</th>\n",
       "      <th>SeriousDlqin2yrs</th>\n",
       "      <th>RevolvingUtilizationOfUnsecuredLines</th>\n",
       "      <th>age</th>\n",
       "      <th>NumberOfTime30-59DaysPastDueNotWorse</th>\n",
       "      <th>DebtRatio</th>\n",
       "      <th>MonthlyIncome</th>\n",
       "      <th>NumberOfOpenCreditLinesAndLoans</th>\n",
       "      <th>NumberOfTimes90DaysLate</th>\n",
       "      <th>NumberRealEstateLoansOrLines</th>\n",
       "      <th>NumberOfTime60-89DaysPastDueNotWorse</th>\n",
       "      <th>NumberOfDependents</th>\n",
       "    </tr>\n",
       "  </thead>\n",
       "  <tbody>\n",
       "    <tr>\n",
       "      <th>Unnamed: 0</th>\n",
       "      <td>1.000000</td>\n",
       "      <td>0.002801</td>\n",
       "      <td>0.002372</td>\n",
       "      <td>0.004403</td>\n",
       "      <td>-0.000571</td>\n",
       "      <td>-0.002906</td>\n",
       "      <td>0.002632</td>\n",
       "      <td>0.004586</td>\n",
       "      <td>-0.001104</td>\n",
       "      <td>-0.000666</td>\n",
       "      <td>-0.000777</td>\n",
       "      <td>-0.000055</td>\n",
       "    </tr>\n",
       "    <tr>\n",
       "      <th>SeriousDlqin2yrs</th>\n",
       "      <td>0.002801</td>\n",
       "      <td>1.000000</td>\n",
       "      <td>-0.001802</td>\n",
       "      <td>-0.115386</td>\n",
       "      <td>0.125587</td>\n",
       "      <td>-0.007602</td>\n",
       "      <td>-0.019746</td>\n",
       "      <td>-0.029669</td>\n",
       "      <td>0.117175</td>\n",
       "      <td>-0.007038</td>\n",
       "      <td>0.102261</td>\n",
       "      <td>0.046048</td>\n",
       "    </tr>\n",
       "    <tr>\n",
       "      <th>RevolvingUtilizationOfUnsecuredLines</th>\n",
       "      <td>0.002372</td>\n",
       "      <td>-0.001802</td>\n",
       "      <td>1.000000</td>\n",
       "      <td>-0.005898</td>\n",
       "      <td>-0.001314</td>\n",
       "      <td>0.003961</td>\n",
       "      <td>0.007124</td>\n",
       "      <td>-0.011281</td>\n",
       "      <td>-0.001061</td>\n",
       "      <td>0.006235</td>\n",
       "      <td>-0.001048</td>\n",
       "      <td>0.001557</td>\n",
       "    </tr>\n",
       "    <tr>\n",
       "      <th>age</th>\n",
       "      <td>0.004403</td>\n",
       "      <td>-0.115386</td>\n",
       "      <td>-0.005898</td>\n",
       "      <td>1.000000</td>\n",
       "      <td>-0.062995</td>\n",
       "      <td>0.024188</td>\n",
       "      <td>0.037717</td>\n",
       "      <td>0.147705</td>\n",
       "      <td>-0.061005</td>\n",
       "      <td>0.033150</td>\n",
       "      <td>-0.057159</td>\n",
       "      <td>-0.213303</td>\n",
       "    </tr>\n",
       "    <tr>\n",
       "      <th>NumberOfTime30-59DaysPastDueNotWorse</th>\n",
       "      <td>-0.000571</td>\n",
       "      <td>0.125587</td>\n",
       "      <td>-0.001314</td>\n",
       "      <td>-0.062995</td>\n",
       "      <td>1.000000</td>\n",
       "      <td>-0.006542</td>\n",
       "      <td>-0.010217</td>\n",
       "      <td>-0.055312</td>\n",
       "      <td>0.983603</td>\n",
       "      <td>-0.030565</td>\n",
       "      <td>0.987005</td>\n",
       "      <td>-0.002680</td>\n",
       "    </tr>\n",
       "    <tr>\n",
       "      <th>DebtRatio</th>\n",
       "      <td>-0.002906</td>\n",
       "      <td>-0.007602</td>\n",
       "      <td>0.003961</td>\n",
       "      <td>0.024188</td>\n",
       "      <td>-0.006542</td>\n",
       "      <td>1.000000</td>\n",
       "      <td>-0.028712</td>\n",
       "      <td>0.049565</td>\n",
       "      <td>-0.008320</td>\n",
       "      <td>0.120046</td>\n",
       "      <td>-0.007533</td>\n",
       "      <td>-0.040673</td>\n",
       "    </tr>\n",
       "    <tr>\n",
       "      <th>MonthlyIncome</th>\n",
       "      <td>0.002632</td>\n",
       "      <td>-0.019746</td>\n",
       "      <td>0.007124</td>\n",
       "      <td>0.037717</td>\n",
       "      <td>-0.010217</td>\n",
       "      <td>-0.028712</td>\n",
       "      <td>1.000000</td>\n",
       "      <td>0.091455</td>\n",
       "      <td>-0.012743</td>\n",
       "      <td>0.124959</td>\n",
       "      <td>-0.011116</td>\n",
       "      <td>0.062647</td>\n",
       "    </tr>\n",
       "    <tr>\n",
       "      <th>NumberOfOpenCreditLinesAndLoans</th>\n",
       "      <td>0.004586</td>\n",
       "      <td>-0.029669</td>\n",
       "      <td>-0.011281</td>\n",
       "      <td>0.147705</td>\n",
       "      <td>-0.055312</td>\n",
       "      <td>0.049565</td>\n",
       "      <td>0.091455</td>\n",
       "      <td>1.000000</td>\n",
       "      <td>-0.079984</td>\n",
       "      <td>0.433959</td>\n",
       "      <td>-0.071077</td>\n",
       "      <td>0.065322</td>\n",
       "    </tr>\n",
       "    <tr>\n",
       "      <th>NumberOfTimes90DaysLate</th>\n",
       "      <td>-0.001104</td>\n",
       "      <td>0.117175</td>\n",
       "      <td>-0.001061</td>\n",
       "      <td>-0.061005</td>\n",
       "      <td>0.983603</td>\n",
       "      <td>-0.008320</td>\n",
       "      <td>-0.012743</td>\n",
       "      <td>-0.079984</td>\n",
       "      <td>1.000000</td>\n",
       "      <td>-0.045205</td>\n",
       "      <td>0.992796</td>\n",
       "      <td>-0.010176</td>\n",
       "    </tr>\n",
       "    <tr>\n",
       "      <th>NumberRealEstateLoansOrLines</th>\n",
       "      <td>-0.000666</td>\n",
       "      <td>-0.007038</td>\n",
       "      <td>0.006235</td>\n",
       "      <td>0.033150</td>\n",
       "      <td>-0.030565</td>\n",
       "      <td>0.120046</td>\n",
       "      <td>0.124959</td>\n",
       "      <td>0.433959</td>\n",
       "      <td>-0.045205</td>\n",
       "      <td>1.000000</td>\n",
       "      <td>-0.039722</td>\n",
       "      <td>0.124684</td>\n",
       "    </tr>\n",
       "    <tr>\n",
       "      <th>NumberOfTime60-89DaysPastDueNotWorse</th>\n",
       "      <td>-0.000777</td>\n",
       "      <td>0.102261</td>\n",
       "      <td>-0.001048</td>\n",
       "      <td>-0.057159</td>\n",
       "      <td>0.987005</td>\n",
       "      <td>-0.007533</td>\n",
       "      <td>-0.011116</td>\n",
       "      <td>-0.071077</td>\n",
       "      <td>0.992796</td>\n",
       "      <td>-0.039722</td>\n",
       "      <td>1.000000</td>\n",
       "      <td>-0.010922</td>\n",
       "    </tr>\n",
       "    <tr>\n",
       "      <th>NumberOfDependents</th>\n",
       "      <td>-0.000055</td>\n",
       "      <td>0.046048</td>\n",
       "      <td>0.001557</td>\n",
       "      <td>-0.213303</td>\n",
       "      <td>-0.002680</td>\n",
       "      <td>-0.040673</td>\n",
       "      <td>0.062647</td>\n",
       "      <td>0.065322</td>\n",
       "      <td>-0.010176</td>\n",
       "      <td>0.124684</td>\n",
       "      <td>-0.010922</td>\n",
       "      <td>1.000000</td>\n",
       "    </tr>\n",
       "  </tbody>\n",
       "</table>\n",
       "</div>"
      ],
      "text/plain": [
       "                                      Unnamed: 0  SeriousDlqin2yrs  \\\n",
       "Unnamed: 0                              1.000000          0.002801   \n",
       "SeriousDlqin2yrs                        0.002801          1.000000   \n",
       "RevolvingUtilizationOfUnsecuredLines    0.002372         -0.001802   \n",
       "age                                     0.004403         -0.115386   \n",
       "NumberOfTime30-59DaysPastDueNotWorse   -0.000571          0.125587   \n",
       "DebtRatio                              -0.002906         -0.007602   \n",
       "MonthlyIncome                           0.002632         -0.019746   \n",
       "NumberOfOpenCreditLinesAndLoans         0.004586         -0.029669   \n",
       "NumberOfTimes90DaysLate                -0.001104          0.117175   \n",
       "NumberRealEstateLoansOrLines           -0.000666         -0.007038   \n",
       "NumberOfTime60-89DaysPastDueNotWorse   -0.000777          0.102261   \n",
       "NumberOfDependents                     -0.000055          0.046048   \n",
       "\n",
       "                                      RevolvingUtilizationOfUnsecuredLines  \\\n",
       "Unnamed: 0                                                        0.002372   \n",
       "SeriousDlqin2yrs                                                 -0.001802   \n",
       "RevolvingUtilizationOfUnsecuredLines                              1.000000   \n",
       "age                                                              -0.005898   \n",
       "NumberOfTime30-59DaysPastDueNotWorse                             -0.001314   \n",
       "DebtRatio                                                         0.003961   \n",
       "MonthlyIncome                                                     0.007124   \n",
       "NumberOfOpenCreditLinesAndLoans                                  -0.011281   \n",
       "NumberOfTimes90DaysLate                                          -0.001061   \n",
       "NumberRealEstateLoansOrLines                                      0.006235   \n",
       "NumberOfTime60-89DaysPastDueNotWorse                             -0.001048   \n",
       "NumberOfDependents                                                0.001557   \n",
       "\n",
       "                                           age  \\\n",
       "Unnamed: 0                            0.004403   \n",
       "SeriousDlqin2yrs                     -0.115386   \n",
       "RevolvingUtilizationOfUnsecuredLines -0.005898   \n",
       "age                                   1.000000   \n",
       "NumberOfTime30-59DaysPastDueNotWorse -0.062995   \n",
       "DebtRatio                             0.024188   \n",
       "MonthlyIncome                         0.037717   \n",
       "NumberOfOpenCreditLinesAndLoans       0.147705   \n",
       "NumberOfTimes90DaysLate              -0.061005   \n",
       "NumberRealEstateLoansOrLines          0.033150   \n",
       "NumberOfTime60-89DaysPastDueNotWorse -0.057159   \n",
       "NumberOfDependents                   -0.213303   \n",
       "\n",
       "                                      NumberOfTime30-59DaysPastDueNotWorse  \\\n",
       "Unnamed: 0                                                       -0.000571   \n",
       "SeriousDlqin2yrs                                                  0.125587   \n",
       "RevolvingUtilizationOfUnsecuredLines                             -0.001314   \n",
       "age                                                              -0.062995   \n",
       "NumberOfTime30-59DaysPastDueNotWorse                              1.000000   \n",
       "DebtRatio                                                        -0.006542   \n",
       "MonthlyIncome                                                    -0.010217   \n",
       "NumberOfOpenCreditLinesAndLoans                                  -0.055312   \n",
       "NumberOfTimes90DaysLate                                           0.983603   \n",
       "NumberRealEstateLoansOrLines                                     -0.030565   \n",
       "NumberOfTime60-89DaysPastDueNotWorse                              0.987005   \n",
       "NumberOfDependents                                               -0.002680   \n",
       "\n",
       "                                      DebtRatio  MonthlyIncome  \\\n",
       "Unnamed: 0                            -0.002906       0.002632   \n",
       "SeriousDlqin2yrs                      -0.007602      -0.019746   \n",
       "RevolvingUtilizationOfUnsecuredLines   0.003961       0.007124   \n",
       "age                                    0.024188       0.037717   \n",
       "NumberOfTime30-59DaysPastDueNotWorse  -0.006542      -0.010217   \n",
       "DebtRatio                              1.000000      -0.028712   \n",
       "MonthlyIncome                         -0.028712       1.000000   \n",
       "NumberOfOpenCreditLinesAndLoans        0.049565       0.091455   \n",
       "NumberOfTimes90DaysLate               -0.008320      -0.012743   \n",
       "NumberRealEstateLoansOrLines           0.120046       0.124959   \n",
       "NumberOfTime60-89DaysPastDueNotWorse  -0.007533      -0.011116   \n",
       "NumberOfDependents                    -0.040673       0.062647   \n",
       "\n",
       "                                      NumberOfOpenCreditLinesAndLoans  \\\n",
       "Unnamed: 0                                                   0.004586   \n",
       "SeriousDlqin2yrs                                            -0.029669   \n",
       "RevolvingUtilizationOfUnsecuredLines                        -0.011281   \n",
       "age                                                          0.147705   \n",
       "NumberOfTime30-59DaysPastDueNotWorse                        -0.055312   \n",
       "DebtRatio                                                    0.049565   \n",
       "MonthlyIncome                                                0.091455   \n",
       "NumberOfOpenCreditLinesAndLoans                              1.000000   \n",
       "NumberOfTimes90DaysLate                                     -0.079984   \n",
       "NumberRealEstateLoansOrLines                                 0.433959   \n",
       "NumberOfTime60-89DaysPastDueNotWorse                        -0.071077   \n",
       "NumberOfDependents                                           0.065322   \n",
       "\n",
       "                                      NumberOfTimes90DaysLate  \\\n",
       "Unnamed: 0                                          -0.001104   \n",
       "SeriousDlqin2yrs                                     0.117175   \n",
       "RevolvingUtilizationOfUnsecuredLines                -0.001061   \n",
       "age                                                 -0.061005   \n",
       "NumberOfTime30-59DaysPastDueNotWorse                 0.983603   \n",
       "DebtRatio                                           -0.008320   \n",
       "MonthlyIncome                                       -0.012743   \n",
       "NumberOfOpenCreditLinesAndLoans                     -0.079984   \n",
       "NumberOfTimes90DaysLate                              1.000000   \n",
       "NumberRealEstateLoansOrLines                        -0.045205   \n",
       "NumberOfTime60-89DaysPastDueNotWorse                 0.992796   \n",
       "NumberOfDependents                                  -0.010176   \n",
       "\n",
       "                                      NumberRealEstateLoansOrLines  \\\n",
       "Unnamed: 0                                               -0.000666   \n",
       "SeriousDlqin2yrs                                         -0.007038   \n",
       "RevolvingUtilizationOfUnsecuredLines                      0.006235   \n",
       "age                                                       0.033150   \n",
       "NumberOfTime30-59DaysPastDueNotWorse                     -0.030565   \n",
       "DebtRatio                                                 0.120046   \n",
       "MonthlyIncome                                             0.124959   \n",
       "NumberOfOpenCreditLinesAndLoans                           0.433959   \n",
       "NumberOfTimes90DaysLate                                  -0.045205   \n",
       "NumberRealEstateLoansOrLines                              1.000000   \n",
       "NumberOfTime60-89DaysPastDueNotWorse                     -0.039722   \n",
       "NumberOfDependents                                        0.124684   \n",
       "\n",
       "                                      NumberOfTime60-89DaysPastDueNotWorse  \\\n",
       "Unnamed: 0                                                       -0.000777   \n",
       "SeriousDlqin2yrs                                                  0.102261   \n",
       "RevolvingUtilizationOfUnsecuredLines                             -0.001048   \n",
       "age                                                              -0.057159   \n",
       "NumberOfTime30-59DaysPastDueNotWorse                              0.987005   \n",
       "DebtRatio                                                        -0.007533   \n",
       "MonthlyIncome                                                    -0.011116   \n",
       "NumberOfOpenCreditLinesAndLoans                                  -0.071077   \n",
       "NumberOfTimes90DaysLate                                           0.992796   \n",
       "NumberRealEstateLoansOrLines                                     -0.039722   \n",
       "NumberOfTime60-89DaysPastDueNotWorse                              1.000000   \n",
       "NumberOfDependents                                               -0.010922   \n",
       "\n",
       "                                      NumberOfDependents  \n",
       "Unnamed: 0                                     -0.000055  \n",
       "SeriousDlqin2yrs                                0.046048  \n",
       "RevolvingUtilizationOfUnsecuredLines            0.001557  \n",
       "age                                            -0.213303  \n",
       "NumberOfTime30-59DaysPastDueNotWorse           -0.002680  \n",
       "DebtRatio                                      -0.040673  \n",
       "MonthlyIncome                                   0.062647  \n",
       "NumberOfOpenCreditLinesAndLoans                 0.065322  \n",
       "NumberOfTimes90DaysLate                        -0.010176  \n",
       "NumberRealEstateLoansOrLines                    0.124684  \n",
       "NumberOfTime60-89DaysPastDueNotWorse           -0.010922  \n",
       "NumberOfDependents                              1.000000  "
      ]
     },
     "execution_count": 7,
     "metadata": {},
     "output_type": "execute_result"
    }
   ],
   "source": [
    "desc.dfcorr(train)"
   ]
  },
  {
   "cell_type": "code",
   "execution_count": 8,
   "metadata": {
    "collapsed": false
   },
   "outputs": [
    {
     "data": {
      "text/plain": [
       "<matplotlib.colorbar.Colorbar at 0x7f60d5c59d30>"
      ]
     },
     "execution_count": 8,
     "metadata": {},
     "output_type": "execute_result"
    },
    {
     "data": {
      "image/png": "[encoded data removed]",
      "text/plain": [
       "<matplotlib.figure.Figure at 0x7f60d5c5eef0>"
      ]
     },
     "metadata": {},
     "output_type": "display_data"
    }
   ],
   "source": [
    "desc.dfcorrp(train)"
   ]
  },
  {
   "cell_type": "markdown",
   "metadata": {},
   "source": [
    "Impute"
   ]
  },
  {
   "cell_type": "code",
   "execution_count": 5,
   "metadata": {
    "collapsed": false,
    "scrolled": true
   },
   "outputs": [
    {
     "name": "stderr",
     "output_type": "stream",
     "text": [
      "/home/sam/capp-455136/mlpipe/impu.py:14: SettingWithCopyWarning: \n",
      "A value is trying to be set on a copy of a slice from a DataFrame.\n",
      "Try using .loc[row_indexer,col_indexer] = value instead\n",
      "\n",
      "See the caveats in the documentation: http://pandas.pydata.org/pandas-docs/stable/indexing.html#indexing-view-versus-copy\n",
      "  df_null[var] = impute\n"
     ]
    }
   ],
   "source": [
    "train1=impu.KNN(train,'MonthlyIncome',2,1)"
   ]
  },
  {
   "cell_type": "code",
   "execution_count": 6,
   "metadata": {
    "collapsed": false
   },
   "outputs": [
    {
     "name": "stderr",
     "output_type": "stream",
     "text": [
      "/home/sam/capp-455136/mlpipe/impu.py:14: SettingWithCopyWarning: \n",
      "A value is trying to be set on a copy of a slice from a DataFrame.\n",
      "Try using .loc[row_indexer,col_indexer] = value instead\n",
      "\n",
      "See the caveats in the documentation: http://pandas.pydata.org/pandas-docs/stable/indexing.html#indexing-view-versus-copy\n",
      "  df_null[var] = impute\n"
     ]
    }
   ],
   "source": [
    "train2=impu.KNN(train1,'NumberOfDependents',2,1)"
   ]
  },
  {
   "cell_type": "code",
   "execution_count": 7,
   "metadata": {
    "collapsed": false
   },
   "outputs": [
    {
     "data": {
      "text/html": [
       "<div>\n",
       "<table border=\"1\" class=\"dataframe\">\n",
       "  <thead>\n",
       "    <tr style=\"text-align: right;\">\n",
       "      <th></th>\n",
       "      <th>mean</th>\n",
       "      <th>median</th>\n",
       "      <th>mode</th>\n",
       "      <th>std</th>\n",
       "      <th>missing</th>\n",
       "    </tr>\n",
       "  </thead>\n",
       "  <tbody>\n",
       "    <tr>\n",
       "      <th>Unnamed: 0</th>\n",
       "      <td>75000.500000</td>\n",
       "      <td>75000.500000</td>\n",
       "      <td>NaN</td>\n",
       "      <td>43301.414527</td>\n",
       "      <td>0.0</td>\n",
       "    </tr>\n",
       "    <tr>\n",
       "      <th>SeriousDlqin2yrs</th>\n",
       "      <td>0.066840</td>\n",
       "      <td>0.000000</td>\n",
       "      <td>0.0</td>\n",
       "      <td>0.249746</td>\n",
       "      <td>0.0</td>\n",
       "    </tr>\n",
       "    <tr>\n",
       "      <th>RevolvingUtilizationOfUnsecuredLines</th>\n",
       "      <td>6.048438</td>\n",
       "      <td>0.154181</td>\n",
       "      <td>0.0</td>\n",
       "      <td>249.755371</td>\n",
       "      <td>0.0</td>\n",
       "    </tr>\n",
       "    <tr>\n",
       "      <th>age</th>\n",
       "      <td>52.295207</td>\n",
       "      <td>52.000000</td>\n",
       "      <td>49.0</td>\n",
       "      <td>14.771866</td>\n",
       "      <td>0.0</td>\n",
       "    </tr>\n",
       "    <tr>\n",
       "      <th>NumberOfTime30-59DaysPastDueNotWorse</th>\n",
       "      <td>0.421033</td>\n",
       "      <td>0.000000</td>\n",
       "      <td>0.0</td>\n",
       "      <td>4.192781</td>\n",
       "      <td>0.0</td>\n",
       "    </tr>\n",
       "    <tr>\n",
       "      <th>DebtRatio</th>\n",
       "      <td>353.005076</td>\n",
       "      <td>0.366508</td>\n",
       "      <td>0.0</td>\n",
       "      <td>2037.818523</td>\n",
       "      <td>0.0</td>\n",
       "    </tr>\n",
       "    <tr>\n",
       "      <th>MonthlyIncome</th>\n",
       "      <td>6658.451787</td>\n",
       "      <td>5458.000000</td>\n",
       "      <td>6500.0</td>\n",
       "      <td>12984.288914</td>\n",
       "      <td>0.0</td>\n",
       "    </tr>\n",
       "    <tr>\n",
       "      <th>NumberOfOpenCreditLinesAndLoans</th>\n",
       "      <td>8.452760</td>\n",
       "      <td>8.000000</td>\n",
       "      <td>6.0</td>\n",
       "      <td>5.145951</td>\n",
       "      <td>0.0</td>\n",
       "    </tr>\n",
       "    <tr>\n",
       "      <th>NumberOfTimes90DaysLate</th>\n",
       "      <td>0.265973</td>\n",
       "      <td>0.000000</td>\n",
       "      <td>0.0</td>\n",
       "      <td>4.169304</td>\n",
       "      <td>0.0</td>\n",
       "    </tr>\n",
       "    <tr>\n",
       "      <th>NumberRealEstateLoansOrLines</th>\n",
       "      <td>1.018240</td>\n",
       "      <td>1.000000</td>\n",
       "      <td>0.0</td>\n",
       "      <td>1.129771</td>\n",
       "      <td>0.0</td>\n",
       "    </tr>\n",
       "    <tr>\n",
       "      <th>NumberOfTime60-89DaysPastDueNotWorse</th>\n",
       "      <td>0.240387</td>\n",
       "      <td>0.000000</td>\n",
       "      <td>0.0</td>\n",
       "      <td>4.155179</td>\n",
       "      <td>0.0</td>\n",
       "    </tr>\n",
       "    <tr>\n",
       "      <th>NumberOfDependents</th>\n",
       "      <td>0.745260</td>\n",
       "      <td>0.000000</td>\n",
       "      <td>0.0</td>\n",
       "      <td>1.109163</td>\n",
       "      <td>0.0</td>\n",
       "    </tr>\n",
       "  </tbody>\n",
       "</table>\n",
       "</div>"
      ],
      "text/plain": [
       "                                              mean        median    mode  \\\n",
       "Unnamed: 0                            75000.500000  75000.500000     NaN   \n",
       "SeriousDlqin2yrs                          0.066840      0.000000     0.0   \n",
       "RevolvingUtilizationOfUnsecuredLines      6.048438      0.154181     0.0   \n",
       "age                                      52.295207     52.000000    49.0   \n",
       "NumberOfTime30-59DaysPastDueNotWorse      0.421033      0.000000     0.0   \n",
       "DebtRatio                               353.005076      0.366508     0.0   \n",
       "MonthlyIncome                          6658.451787   5458.000000  6500.0   \n",
       "NumberOfOpenCreditLinesAndLoans           8.452760      8.000000     6.0   \n",
       "NumberOfTimes90DaysLate                   0.265973      0.000000     0.0   \n",
       "NumberRealEstateLoansOrLines              1.018240      1.000000     0.0   \n",
       "NumberOfTime60-89DaysPastDueNotWorse      0.240387      0.000000     0.0   \n",
       "NumberOfDependents                        0.745260      0.000000     0.0   \n",
       "\n",
       "                                               std  missing  \n",
       "Unnamed: 0                            43301.414527      0.0  \n",
       "SeriousDlqin2yrs                          0.249746      0.0  \n",
       "RevolvingUtilizationOfUnsecuredLines    249.755371      0.0  \n",
       "age                                      14.771866      0.0  \n",
       "NumberOfTime30-59DaysPastDueNotWorse      4.192781      0.0  \n",
       "DebtRatio                              2037.818523      0.0  \n",
       "MonthlyIncome                         12984.288914      0.0  \n",
       "NumberOfOpenCreditLinesAndLoans           5.145951      0.0  \n",
       "NumberOfTimes90DaysLate                   4.169304      0.0  \n",
       "NumberRealEstateLoansOrLines              1.129771      0.0  \n",
       "NumberOfTime60-89DaysPastDueNotWorse      4.155179      0.0  \n",
       "NumberOfDependents                        1.109163      0.0  "
      ]
     },
     "execution_count": 7,
     "metadata": {},
     "output_type": "execute_result"
    }
   ],
   "source": [
    "desc.dfsum(train2)"
   ]
  },
  {
   "cell_type": "code",
   "execution_count": 8,
   "metadata": {
    "collapsed": false
   },
   "outputs": [
    {
     "data": {
      "image/png": "[encoded data removed]",
      "text/plain": [
       "<matplotlib.figure.Figure at 0x7f114b14a358>"
      ]
     },
     "metadata": {},
     "output_type": "display_data"
    }
   ],
   "source": [
    "desc.dfforest(train2.ix[:,train2.columns != 'Unnamed: 0'],'SeriousDlqin2yrs')"
   ]
  },
  {
   "cell_type": "code",
   "execution_count": 24,
   "metadata": {
    "collapsed": false
   },
   "outputs": [],
   "source": [
    "import pandas as pd\n",
    "def disc(df,var,x):\n",
    "\tdf[var+'bin'] = pd.cut(df[var], bins=x, labels=False)\n",
    "\treturn df[str(var)+'bin']"
   ]
  },
  {
   "cell_type": "code",
   "execution_count": 27,
   "metadata": {
    "collapsed": false,
    "scrolled": true
   },
   "outputs": [
    {
     "data": {
      "text/plain": [
       "0         0\n",
       "1         0\n",
       "2         0\n",
       "3         0\n",
       "4         2\n",
       "5         0\n",
       "7         0\n",
       "9         0\n",
       "10        0\n",
       "11        0\n",
       "12        0\n",
       "13        0\n",
       "14        0\n",
       "15        0\n",
       "17        0\n",
       "18        0\n",
       "19        0\n",
       "20        0\n",
       "21        0\n",
       "22        0\n",
       "23        0\n",
       "24        0\n",
       "25        0\n",
       "26        0\n",
       "27        0\n",
       "28        0\n",
       "29        0\n",
       "30        0\n",
       "31        0\n",
       "33        0\n",
       "         ..\n",
       "149044    0\n",
       "149056    0\n",
       "149068    0\n",
       "149090    0\n",
       "149114    0\n",
       "149120    0\n",
       "149132    0\n",
       "149162    0\n",
       "149237    0\n",
       "149364    0\n",
       "149382    0\n",
       "149401    0\n",
       "149420    0\n",
       "149431    0\n",
       "149645    0\n",
       "149656    0\n",
       "149662    0\n",
       "149677    0\n",
       "149682    0\n",
       "149700    0\n",
       "149748    0\n",
       "149754    0\n",
       "149769    0\n",
       "149790    0\n",
       "149796    0\n",
       "149826    0\n",
       "149854    0\n",
       "149894    0\n",
       "149948    0\n",
       "149965    0\n",
       "Name: MonthlyIncomebin, dtype: int64"
      ]
     },
     "execution_count": 27,
     "metadata": {},
     "output_type": "execute_result"
    }
   ],
   "source": [
    "disc(train2,'MonthlyIncome',100)"
   ]
  },
  {
   "cell_type": "code",
   "execution_count": 30,
   "metadata": {
    "collapsed": false,
    "scrolled": true
   },
   "outputs": [
    {
     "data": {
      "text/plain": [
       "count    150000.000000\n",
       "mean          0.010873\n",
       "std           0.402388\n",
       "min           0.000000\n",
       "25%           0.000000\n",
       "50%           0.000000\n",
       "75%           0.000000\n",
       "max          99.000000\n",
       "Name: MonthlyIncomebin, dtype: float64"
      ]
     },
     "execution_count": 30,
     "metadata": {},
     "output_type": "execute_result"
    }
   ],
   "source": [
    "train2['MonthlyIncomebin'].describe()"
   ]
  },
  {
   "cell_type": "code",
   "execution_count": 43,
   "metadata": {
    "collapsed": false
   },
   "outputs": [],
   "source": [
    "importances = clf.feature_importances_\n",
    "sorted_idx = np.argsort(importances)"
   ]
  },
  {
   "cell_type": "code",
   "execution_count": 45,
   "metadata": {
    "collapsed": false
   },
   "outputs": [
    {
     "data": {
      "image/png": "[encoded data removed]",
      "text/plain": [
       "<matplotlib.figure.Figure at 0x7fed67c09be0>"
      ]
     },
     "metadata": {},
     "output_type": "display_data"
    }
   ],
   "source": [
    "import pylab as pl\n",
    "padding = np.arange(len(features)) + 0.5\n",
    "pl.barh(padding, importances[sorted_idx], align='center')\n",
    "pl.yticks(padding, features[sorted_idx])\n",
    "pl.xlabel(\"Relative Importance\")\n",
    "pl.title(\"Variable Importance\")\n",
    "pl.show()"
   ]
  },
  {
   "cell_type": "code",
   "execution_count": 47,
   "metadata": {
    "collapsed": false
   },
   "outputs": [
    {
     "ename": "SyntaxError",
     "evalue": "'return' outside function (<ipython-input-47-220178880fdf>, line 1)",
     "output_type": "error",
     "traceback": [
      "\u001b[1;36m  File \u001b[1;32m\"<ipython-input-47-220178880fdf>\"\u001b[1;36m, line \u001b[1;32m1\u001b[0m\n\u001b[1;33m    return pl.show()\u001b[0m\n\u001b[1;37m                    ^\u001b[0m\n\u001b[1;31mSyntaxError\u001b[0m\u001b[1;31m:\u001b[0m 'return' outside function\n"
     ]
    }
   ],
   "source": [
    "return pl.show()"
   ]
  },
  {
   "cell_type": "code",
   "execution_count": null,
   "metadata": {
    "collapsed": true
   },
   "outputs": [],
   "source": []
  }
 ],
 "metadata": {
  "kernelspec": {
   "display_name": "Python 3",
   "language": "python",
   "name": "python3"
  },
  "language_info": {
   "codemirror_mode": {
    "name": "ipython",
    "version": 3
   },
   "file_extension": ".py",
   "mimetype": "text/x-python",
   "name": "python",
   "nbconvert_exporter": "python",
   "pygments_lexer": "ipython3",
   "version": "3.5.1"
  }
 },
 "nbformat": 4,
 "nbformat_minor": 0
}
